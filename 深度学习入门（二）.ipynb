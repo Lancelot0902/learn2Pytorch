{
 "cells": [
  {
   "cell_type": "markdown",
   "source": [
    "线性回归的从零开始实现，模型是**y** = **Xw** + b + θ，θ服从（0,0.0001）的正态分布。**X**是一个1000*2的矩阵，每个样本包含从标准正态分布中采样的2个特征，线性模型参数**W** = [2，-3.4]<sup>T</sup>，b = 4.2"
   ],
   "metadata": {}
  },
  {
   "cell_type": "code",
   "execution_count": 1,
   "source": [
    "import random\r\n",
    "import torch"
   ],
   "outputs": [],
   "metadata": {}
  },
  {
   "cell_type": "markdown",
   "source": [
    "产生数据"
   ],
   "metadata": {}
  },
  {
   "cell_type": "code",
   "execution_count": 2,
   "source": [
    "def synthetic_data(w, b, num_examples):     #@save\r\n",
    "    \"\"\" 生成线性回归的模型 \"\"\"\r\n",
    "    X = torch.normal(0, 1, (num_examples, len(w)))  # 返回一个1000*2的tensor，数据服从标准正态分布\r\n",
    "    y = torch.matmul(X, w) + b\r\n",
    "    y += torch.normal(0, 0.01, y.shape)  # 加θ\r\n",
    "    return X, y.reshape((-1, 1))  # 返回X，y的列向量\r\n",
    "\r\n",
    "true_w = torch.tensor([2, -3.4])\r\n",
    "true_b = 4.2\r\n",
    "features, labels = synthetic_data(true_w, true_b, 1000)\r\n",
    "\r\n",
    "print('features:',features[0],'\\nlabel:',labels[0])  # features中的每一行都包含一个二维数据样本，labels中的每一行都包含一维标签值（一个标量）"
   ],
   "outputs": [
    {
     "output_type": "stream",
     "name": "stdout",
     "text": [
      "features: tensor([ 1.3837, -1.3548]) \n",
      "label: tensor([11.5683])\n"
     ]
    }
   ],
   "metadata": {}
  },
  {
   "cell_type": "markdown",
   "source": [
    "读取数据集\r\n",
    "该函数能打乱数据集集中的样本并以小批量方式获取数据（batch_size）"
   ],
   "metadata": {}
  },
  {
   "cell_type": "code",
   "execution_count": 3,
   "source": [
    "def data_iter(batch_size, features, labels):\r\n",
    "    num_examples = len(features)\r\n",
    "    indices = list(range(num_examples))\r\n",
    "\r\n",
    "    # 这些样本是随机读取的，没有特定的顺序\r\n",
    "    random.shuffle(indices)\r\n",
    "    for i in range(0, num_examples, batch_size):\r\n",
    "        batch_indices = torch.tensor(indices[i:min(i + batch_size, num_examples)])\r\n",
    "        yield features[batch_indices], labels[batch_indices]\r\n",
    "    \r\n",
    "batch_size = 10\r\n",
    "\r\n",
    "for X,y in data_iter(batch_size, features, labels):\r\n",
    "        print(X, '\\n', y)\r\n",
    "        break"
   ],
   "outputs": [
    {
     "output_type": "stream",
     "name": "stdout",
     "text": [
      "tensor([[-0.3436,  1.0502],\n",
      "        [ 1.4884,  1.1913],\n",
      "        [ 0.3127,  1.3316],\n",
      "        [ 0.1652,  0.8474],\n",
      "        [-0.0790,  0.0616],\n",
      "        [ 1.0388,  0.4678],\n",
      "        [ 0.1514, -0.6172],\n",
      "        [-0.6109,  0.9760],\n",
      "        [-2.0698, -1.2011],\n",
      "        [-0.3881, -0.6774]]) \n",
      " tensor([[-0.0539],\n",
      "        [ 3.1356],\n",
      "        [ 0.3045],\n",
      "        [ 1.6498],\n",
      "        [ 3.8470],\n",
      "        [ 4.6937],\n",
      "        [ 6.5856],\n",
      "        [-0.3517],\n",
      "        [ 4.1269],\n",
      "        [ 5.7190]])\n"
     ]
    }
   ],
   "metadata": {}
  },
  {
   "cell_type": "markdown",
   "source": [
    "初始化模型参数"
   ],
   "metadata": {}
  },
  {
   "cell_type": "code",
   "execution_count": 4,
   "source": [
    "w = torch.normal(0, 0.01, size=(2,1), requires_grad=True)\r\n",
    "b = torch.zeros(1, requires_grad=True)"
   ],
   "outputs": [],
   "metadata": {}
  },
  {
   "cell_type": "markdown",
   "source": [
    "初始化参数之后，我们的任务是更新这些参数，直到这些参数足够拟合我们的数据。更新的算法为梯度下降算法（gradient descent）"
   ],
   "metadata": {}
  },
  {
   "cell_type": "markdown",
   "source": [
    "---------------\r\n",
    "定义线性回归模型"
   ],
   "metadata": {}
  },
  {
   "cell_type": "code",
   "execution_count": 5,
   "source": [
    "def linreg(X, w, b):    #@save\r\n",
    "    \"\"\" 线性回归模型 \"\"\"\r\n",
    "    return torch.matmul(X, w) + b"
   ],
   "outputs": [],
   "metadata": {}
  },
  {
   "cell_type": "markdown",
   "source": [
    "定义损失函数，这里使用平方损失函数"
   ],
   "metadata": {}
  },
  {
   "cell_type": "code",
   "execution_count": 6,
   "source": [
    "def squared_loss(y_hat, y): #@save\r\n",
    "    \"\"\" 均方损失 \"\"\"\r\n",
    "    return (y_hat - y.reshape(y_hat.shape)) ** 2 / 2"
   ],
   "outputs": [],
   "metadata": {}
  },
  {
   "cell_type": "markdown",
   "source": [
    "定义优化算法，主要使用小批量随机梯度下降。"
   ],
   "metadata": {}
  },
  {
   "cell_type": "code",
   "execution_count": 7,
   "source": [
    "def sgd(params, lr, batch_size):  #@save\r\n",
    "    \"\"\" 小批量随机梯度下降 \"\"\"\r\n",
    "    with torch.no_grad():\r\n",
    "        for param in params:\r\n",
    "            param -= lr * param.grad / batch_size   # 计算的损失是一个批量样本的总和，所以用batch_size来归一化步长\r\n",
    "                                                    # -=操作符会就地改变参数的值，所以不需要返回值\r\n",
    "            param.grad.zero_()"
   ],
   "outputs": [],
   "metadata": {}
  },
  {
   "cell_type": "markdown",
   "source": [
    "训练模型，我们会完成以下循环：\r\n",
    "* 初始化参数\r\n",
    "* 重复，直到完成\r\n",
    "    * 计算梯度**g（w，** b **）**\r\n",
    "    * 更新参数**w**，b"
   ],
   "metadata": {}
  },
  {
   "cell_type": "code",
   "execution_count": 8,
   "source": [
    "lr = 0.03\r\n",
    "num_epochs = 3\r\n",
    "\r\n",
    "\"\"\" 等于将前面定义的函数改了个名 \"\"\"\r\n",
    "net = linreg\r\n",
    "loss = squared_loss\r\n",
    "\r\n",
    "for epoch in range(num_epochs):\r\n",
    "    for X,y in data_iter(batch_size, features, labels):\r\n",
    "        l = loss(net(X, w, b), y)\r\n",
    "        l.sum().backward()\r\n",
    "        sgd([w,b], lr, batch_size)\r\n",
    "    with torch.no_grad():\r\n",
    "        train_l = loss(net(features, w, b), labels)\r\n",
    "        print(f'epoch {epoch + 1}, loss {float(train_l.mean()):f}')"
   ],
   "outputs": [
    {
     "output_type": "stream",
     "name": "stdout",
     "text": [
      "epoch 1, loss 0.036472\n",
      "epoch 2, loss 0.000132\n",
      "epoch 3, loss 0.000049\n"
     ]
    }
   ],
   "metadata": {}
  },
  {
   "cell_type": "markdown",
   "source": [
    "真实参数true_w，true_b与训练参数w，b的误差"
   ],
   "metadata": {}
  },
  {
   "cell_type": "code",
   "execution_count": 9,
   "source": [
    "print(f'w的估计误差:{true_w - w.reshape(true_w.shape)}')\r\n",
    "print(f'b的估计误差:{true_b - b}')"
   ],
   "outputs": [
    {
     "output_type": "stream",
     "name": "stdout",
     "text": [
      "w的估计误差:tensor([ 0.0010, -0.0003], grad_fn=<SubBackward0>)\n",
      "b的估计误差:tensor([-0.0001], grad_fn=<RsubBackward1>)\n"
     ]
    }
   ],
   "metadata": {}
  }
 ],
 "metadata": {
  "orig_nbformat": 4,
  "language_info": {
   "name": "python",
   "version": "3.8.0",
   "mimetype": "text/x-python",
   "codemirror_mode": {
    "name": "ipython",
    "version": 3
   },
   "pygments_lexer": "ipython3",
   "nbconvert_exporter": "python",
   "file_extension": ".py"
  },
  "kernelspec": {
   "name": "python3",
   "display_name": "Python 3.8.0 64-bit"
  },
  "interpreter": {
   "hash": "1afac9f31d94eb4bb33e3dfb678ca317679229fb6cdf46f98be1090e60a0b866"
  }
 },
 "nbformat": 4,
 "nbformat_minor": 2
}