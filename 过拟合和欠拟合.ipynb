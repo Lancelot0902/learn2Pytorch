{
 "cells": [
  {
   "cell_type": "code",
   "execution_count": 1,
   "source": [
    "import math\r\n",
    "import torch\r\n",
    "import d2l as d2l\r\n",
    "import numpy as np\r\n",
    "from torch import nn"
   ],
   "outputs": [],
   "metadata": {}
  },
  {
   "cell_type": "code",
   "execution_count": 2,
   "source": [
    "# 生成数据集和测试集\r\n",
    "\r\n",
    "max_degree = 20\r\n",
    "n_train, n_test = 100, 100  # 训练和测试数据集大小\r\n",
    "true_w = np.zeros(max_degree)\r\n",
    "true_w[0:4] = np.array([5, 1.2, -3.4, 5.6])  # 4个真实的特征值，其余的全为噪音\r\n",
    "\r\n",
    "features = np.random.normal(size=(n_train + n_test, 1))\r\n",
    "np.random.shuffle(features)\r\n",
    "poly_features = np.power(features, np.arange(max_degree).reshape(1, -1))\r\n",
    "for i in range(max_degree):\r\n",
    "    poly_features[:, i] /= math.gamma(i + 1)  # `gamma(n)` = (n-1)!\r\n",
    "# `labels`的维度: (`n_train` + `n_test`,)\r\n",
    "labels = np.dot(poly_features, true_w)\r\n",
    "labels += np.random.normal(scale=0.1, size=labels.shape)\r\n",
    "\r\n",
    "# NumPy ndarray转换为tensor\r\n",
    "true_w, features, poly_features, labels = [\r\n",
    "    torch.tensor(x, dtype=torch.float32)\r\n",
    "    for x in [true_w, features, poly_features, labels]\r\n",
    "]\r\n",
    "\r\n",
    "\r\n",
    "features.shape, poly_features.shape, labels.shape"
   ],
   "outputs": [
    {
     "output_type": "execute_result",
     "data": {
      "text/plain": [
       "(torch.Size([200, 1]), torch.Size([200, 20]), torch.Size([200]))"
      ]
     },
     "metadata": {},
     "execution_count": 2
    }
   ],
   "metadata": {}
  },
  {
   "cell_type": "code",
   "execution_count": 6,
   "source": [
    "# 对模型进行训练和测试\r\n",
    "\r\n",
    "\r\n",
    "def evaluate_loss(net, data_iter, loss):\r\n",
    "    \"\"\" 评估给定数据集上模型的损失 \"\"\"\r\n",
    "    metric = d2l.Accumulator(2)\r\n",
    "    for X, y in data_iter:\r\n",
    "        out = net(X)\r\n",
    "        y = y.reshape(out.shape)\r\n",
    "        l = loss(out, y)\r\n",
    "        metric.add(l.sum(), l.numel())\r\n",
    "    return metric[0] / metric[1]\r\n",
    "\r\n",
    "\r\n",
    "def train(train_features,\r\n",
    "          test_features,\r\n",
    "          train_labels,\r\n",
    "          test_labels,\r\n",
    "          num_epochs=400):\r\n",
    "    loss = nn.MSELoss()\r\n",
    "    input_shape = train_features.shape[-1]\r\n",
    "    net = nn.Sequential(nn.Linear(input_shape, 1, bias=False))\r\n",
    "    batch_size = min(10, train_labels.shape[0])\r\n",
    "    train_iter = d2l.load_array((train_features, train_labels.reshape(-1, 1)),\r\n",
    "                                batch_size)\r\n",
    "    test_iter = d2l.load_array((test_features, test_labels.reshape(-1, 1)),\r\n",
    "                               batch_size,\r\n",
    "                               is_train=False)\r\n",
    "    trainer = torch.optim.SGD(net.parameters(), lr=0.1)\r\n",
    "    print('weight:', net[0].weight.data.numpy())\r\n",
    "    for epoch in range(num_epochs):\r\n",
    "        d2l.train_epoch_ch3(net, train_iter, loss, trainer)\r\n",
    "        #if epoch == 0 or (epoch + 1) % 20 == 0:\r\n",
    "            #print('train_loss',evaluate_loss(net, train_iter, loss))\r\n",
    "            #print('test_loss',evaluate_loss(net, test_iter, loss))\r\n",
    "    print('weight:', net[0].weight.data.numpy())\r\n",
    "\r\n",
    "\r\n",
    "# 从多项式特征中选择前4个维度，即 1, x, x^2/2!, x^3/3!\r\n",
    "train(poly_features[:n_train, :4], poly_features[n_train:, :4],\r\n",
    "      labels[:n_train], labels[n_train:])"
   ],
   "outputs": [
    {
     "output_type": "stream",
     "name": "stdout",
     "text": [
      "weight: [[ 0.48505026 -0.08744365 -0.4735828  -0.3820482 ]]\n",
      "weight: [[ 4.9973974  1.1984353 -3.380626   5.6054015]]\n"
     ]
    }
   ],
   "metadata": {}
  }
 ],
 "metadata": {
  "orig_nbformat": 4,
  "language_info": {
   "name": "python",
   "version": "3.8.0",
   "mimetype": "text/x-python",
   "codemirror_mode": {
    "name": "ipython",
    "version": 3
   },
   "pygments_lexer": "ipython3",
   "nbconvert_exporter": "python",
   "file_extension": ".py"
  },
  "kernelspec": {
   "name": "python3",
   "display_name": "Python 3.8.0 64-bit"
  },
  "interpreter": {
   "hash": "1afac9f31d94eb4bb33e3dfb678ca317679229fb6cdf46f98be1090e60a0b866"
  }
 },
 "nbformat": 4,
 "nbformat_minor": 2
}