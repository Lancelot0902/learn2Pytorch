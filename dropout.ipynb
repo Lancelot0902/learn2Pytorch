{
 "cells": [
  {
   "cell_type": "markdown",
   "source": [
    "Dropout的目的也是为了衰减权重，只不过dropout方法不是在输入层进行衰减，而是相当于将中间的隐藏层分成了几个不同深度的子层，这样的训练效果可能更好。\r\n",
    "\r\n",
    "实现方法是设置一个概率p来进行概率丢弃。"
   ],
   "metadata": {}
  },
  {
   "cell_type": "code",
   "execution_count": 1,
   "source": [
    "import torch\r\n",
    "import d2l as d2l\r\n",
    "from torch import nn"
   ],
   "outputs": [],
   "metadata": {}
  },
  {
   "cell_type": "code",
   "execution_count": 4,
   "source": [
    "def dropout_layer(X, dropout):\r\n",
    "    assert 0 <= dropout <= 1\r\n",
    "    if dropout == 1:\r\n",
    "        return torch.zeros_like(X)\r\n",
    "    if dropout == 0:\r\n",
    "        return X\r\n",
    "    mask = (torch.rand(X.shape) > dropout).float()  # 概率为dropout时返回0\r\n",
    "    return mask * X / (1.0 - dropout)"
   ],
   "outputs": [],
   "metadata": {}
  },
  {
   "cell_type": "code",
   "execution_count": 5,
   "source": [
    "X = torch.arange(16, dtype=torch.float32).reshape((2, 8))\r\n",
    "print(X)\r\n",
    "print(dropout_layer(X, 0.))\r\n",
    "print(dropout_layer(X, 0.5))\r\n",
    "print(dropout_layer(X, 1.))"
   ],
   "outputs": [
    {
     "output_type": "stream",
     "name": "stdout",
     "text": [
      "tensor([[ 0.,  1.,  2.,  3.,  4.,  5.,  6.,  7.],\n",
      "        [ 8.,  9., 10., 11., 12., 13., 14., 15.]])\n",
      "tensor([[ 0.,  1.,  2.,  3.,  4.,  5.,  6.,  7.],\n",
      "        [ 8.,  9., 10., 11., 12., 13., 14., 15.]])\n",
      "tensor([[ 0.,  0.,  4.,  6.,  8.,  0.,  0., 14.],\n",
      "        [ 0., 18., 20., 22.,  0., 26.,  0., 30.]])\n",
      "tensor([[0., 0., 0., 0., 0., 0., 0., 0.],\n",
      "        [0., 0., 0., 0., 0., 0., 0., 0.]])\n"
     ]
    }
   ],
   "metadata": {}
  },
  {
   "cell_type": "code",
   "execution_count": 6,
   "source": [
    "num_inputs, num_outputs, num_hiddens1, num_hiddens2 = 784, 10, 256, 256"
   ],
   "outputs": [],
   "metadata": {}
  },
  {
   "cell_type": "code",
   "execution_count": 9,
   "source": [
    "# 定义模型\r\n",
    "dropout1 = 0.5\r\n",
    "dropout2 = 0.2\r\n",
    "\r\n",
    "\r\n",
    "class Net(nn.Module):\r\n",
    "    def __init__(self,\r\n",
    "                 num_inputs,\r\n",
    "                 num_outputs,\r\n",
    "                 num_hiddens1,\r\n",
    "                 num_hiddens2,\r\n",
    "                 is_training=True):\r\n",
    "        super(Net, self).__init__()\r\n",
    "        self.num_inputs = num_inputs\r\n",
    "        self.is_training = is_training\r\n",
    "        self.lin1 = nn.Linear(num_inputs, num_hiddens1)\r\n",
    "        self.lin2 = nn.Linear(num_hiddens1, num_hiddens2)\r\n",
    "        self.lin3 = nn.Linear(num_hiddens2, num_outputs)\r\n",
    "        self.relu = nn.ReLU()\r\n",
    "\r\n",
    "    def forward(self, X):\r\n",
    "        H1 = self.relu(self.lin1(X.reshape((-1, num_inputs))))\r\n",
    "        if self.is_training == True:\r\n",
    "            H1 = dropout_layer(H1, dropout1)\r\n",
    "        H2 = self.relu(self.lin2(H1))\r\n",
    "        if self.is_training == True:\r\n",
    "            H2 = dropout_layer(H2, dropout2)\r\n",
    "        out = self.lin3(H2)\r\n",
    "        return out\r\n",
    "\r\n",
    "\r\n",
    "net = Net(num_inputs, num_outputs, num_hiddens1, num_hiddens2)"
   ],
   "outputs": [],
   "metadata": {}
  },
  {
   "cell_type": "code",
   "execution_count": 10,
   "source": [
    "num_epochs, lr, batch_size = 10, 0.5, 256\r\n",
    "loss = nn.CrossEntropyLoss()\r\n",
    "train_iter, test_iter = d2l.load_data_fashion_mnist(batch_size)\r\n",
    "trainer = torch.optim.SGD(net.parameters(), lr=lr)\r\n",
    "d2l.train_ch3(net, train_iter, test_iter, loss, num_epochs, trainer)"
   ],
   "outputs": [
    {
     "output_type": "stream",
     "name": "stdout",
     "text": [
      "epoch： 1, loss： 0.8922, train_acc： 0.672, test_acc： 0.765\n",
      "epoch： 2, loss： 0.5247, train_acc： 0.808, test_acc： 0.740\n",
      "epoch： 3, loss： 0.5154, train_acc： 0.816, test_acc： 0.757\n",
      "epoch： 4, loss： 0.4383, train_acc： 0.839, test_acc： 0.819\n",
      "epoch： 5, loss： 0.4155, train_acc： 0.848, test_acc： 0.834\n",
      "epoch： 6, loss： 0.3913, train_acc： 0.857, test_acc： 0.831\n",
      "epoch： 7, loss： 0.3800, train_acc： 0.861, test_acc： 0.803\n",
      "epoch： 8, loss： 0.3667, train_acc： 0.865, test_acc： 0.853\n",
      "epoch： 9, loss： 0.3526, train_acc： 0.872, test_acc： 0.858\n",
      "epoch： 10, loss： 0.3443, train_acc： 0.873, test_acc： 0.848\n"
     ]
    }
   ],
   "metadata": {}
  },
  {
   "cell_type": "code",
   "execution_count": 14,
   "source": [
    "# 简洁实现\r\n",
    "net = nn.Sequential(nn.Flatten(), nn.Linear(784, 256), nn.ReLU(),\r\n",
    "                    nn.Dropout(dropout1), nn.Linear(256, 256), nn.ReLU(),\r\n",
    "                    nn.Dropout(dropout2), nn.Linear(256, 10))\r\n",
    "\r\n",
    "\r\n",
    "def init_weights(m):\r\n",
    "    if type(m) == nn.Linear:\r\n",
    "        nn.init.normal_(m.weight, std=0.01)\r\n",
    "\r\n",
    "\r\n",
    "net.apply(init_weights)\r\n",
    "trainer = torch.optim.SGD(net.parameters(), lr=lr)\r\n",
    "d2l.train_ch3(net, train_iter, test_iter, loss, num_epochs, trainer)"
   ],
   "outputs": [
    {
     "output_type": "stream",
     "name": "stdout",
     "text": [
      "epoch： 1, loss： 1.1316, train_acc： 0.560, test_acc： 0.736\n",
      "epoch： 2, loss： 0.5774, train_acc： 0.787, test_acc： 0.773\n",
      "epoch： 3, loss： 0.4820, train_acc： 0.825, test_acc： 0.733\n",
      "epoch： 4, loss： 0.4473, train_acc： 0.835, test_acc： 0.743\n",
      "epoch： 5, loss： 0.4167, train_acc： 0.848, test_acc： 0.842\n",
      "epoch： 6, loss： 0.3911, train_acc： 0.857, test_acc： 0.813\n",
      "epoch： 7, loss： 0.3763, train_acc： 0.861, test_acc： 0.853\n",
      "epoch： 8, loss： 0.3643, train_acc： 0.865, test_acc： 0.866\n",
      "epoch： 9, loss： 0.3521, train_acc： 0.869, test_acc： 0.850\n",
      "epoch： 10, loss： 0.3417, train_acc： 0.873, test_acc： 0.834\n"
     ]
    }
   ],
   "metadata": {}
  }
 ],
 "metadata": {
  "orig_nbformat": 4,
  "language_info": {
   "name": "python",
   "version": "3.8.0",
   "mimetype": "text/x-python",
   "codemirror_mode": {
    "name": "ipython",
    "version": 3
   },
   "pygments_lexer": "ipython3",
   "nbconvert_exporter": "python",
   "file_extension": ".py"
  },
  "kernelspec": {
   "name": "python3",
   "display_name": "Python 3.8.0 64-bit"
  },
  "interpreter": {
   "hash": "1afac9f31d94eb4bb33e3dfb678ca317679229fb6cdf46f98be1090e60a0b866"
  }
 },
 "nbformat": 4,
 "nbformat_minor": 2
}