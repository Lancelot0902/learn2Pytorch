{
 "cells": [
  {
   "cell_type": "markdown",
   "source": [
    "线性回归的从零开始实现，模型是**y** = **Xw** + b + θ，θ服从（0,0.0001）的正态分布。**X**是一个1000*2的矩阵，每个样本包含从标准正态分布中采样的2个特征，线性模型参数**W** = [2，-3.4]<sup>T</sup>，b = 4.2"
   ],
   "metadata": {}
  },
  {
   "cell_type": "code",
   "execution_count": 2,
   "source": [
    "import random\r\n",
    "import torch"
   ],
   "outputs": [],
   "metadata": {}
  },
  {
   "cell_type": "markdown",
   "source": [
    "产生数据"
   ],
   "metadata": {}
  },
  {
   "cell_type": "code",
   "execution_count": 3,
   "source": [
    "def synthetic_data(w, b, num_examples):\r\n",
    "    \"\"\" 生成线性回归的模型 \"\"\"\r\n",
    "    X = torch.normal(0, 1, (num_examples, len(w)))  # 返回一个1000*2的tensor，数据服从标准正态分布\r\n",
    "    y = torch.matmul(X, w) + b\r\n",
    "    y += torch.normal(0, 0.01, y.shape)  # 加θ\r\n",
    "    return X, y.reshape((-1, 1))  # 返回X，y的列向量\r\n",
    "\r\n",
    "true_w = torch.tensor([2, -3.4])\r\n",
    "true_b = 4.2\r\n",
    "features, labels = synthetic_data(true_w, true_b, 1000)\r\n",
    "\r\n",
    "print('features:',features[0],'\\nlabel:',labels[0])  # features中的每一行都包含一个二维数据样本，labels中的每一行都包含一维标签值（一个标量）"
   ],
   "outputs": [
    {
     "output_type": "stream",
     "name": "stdout",
     "text": [
      "features: tensor([0.0555, 0.8720]) \n",
      "label: tensor([1.3533])\n"
     ]
    }
   ],
   "metadata": {}
  },
  {
   "cell_type": "markdown",
   "source": [
    "读取数据集\r\n",
    "该函数能打乱数据集集中的样本并以小批量方式获取数据（batch_size）"
   ],
   "metadata": {}
  },
  {
   "cell_type": "code",
   "execution_count": 4,
   "source": [
    "def data_iter(batch_size, features, labels):\r\n",
    "    num_examples = len(features)\r\n",
    "    indices = list(range(num_examples))\r\n",
    "\r\n",
    "    # 这些样本是随机读取的，没有特定的顺序\r\n",
    "    random.shuffle(indices)\r\n",
    "    for i in range(0, num_examples, batch_size):\r\n",
    "        batch_indices = torch.tensor(indices[i:min(i + batch_size, num_examples)])\r\n",
    "        yield features[batch_indices], labels[batch_indices]\r\n",
    "    \r\n",
    "batch_size = 10\r\n",
    "\r\n",
    "for X,y in data_iter(batch_size, features, labels):\r\n",
    "        print(X, '\\n', y)\r\n",
    "        break"
   ],
   "outputs": [
    {
     "output_type": "stream",
     "name": "stdout",
     "text": [
      "tensor([[ 0.1475, -2.3927],\n",
      "        [-0.5745,  0.9771],\n",
      "        [ 0.6162, -1.1894],\n",
      "        [-0.9051,  0.6513],\n",
      "        [-0.8294, -0.2915],\n",
      "        [-0.9675,  0.1235],\n",
      "        [-0.7385, -0.8236],\n",
      "        [ 0.5880,  0.4909],\n",
      "        [-0.2561, -0.7928],\n",
      "        [-0.2013,  0.1174]]) \n",
      " tensor([[12.6255],\n",
      "        [-0.2694],\n",
      "        [ 9.4587],\n",
      "        [ 0.1815],\n",
      "        [ 3.5284],\n",
      "        [ 1.8383],\n",
      "        [ 5.5123],\n",
      "        [ 3.7175],\n",
      "        [ 6.3779],\n",
      "        [ 3.3995]])\n"
     ]
    }
   ],
   "metadata": {}
  },
  {
   "cell_type": "markdown",
   "source": [
    "初始化模型参数"
   ],
   "metadata": {}
  },
  {
   "cell_type": "code",
   "execution_count": 5,
   "source": [
    "w = torch.normal(0, 0.01, size=(2,1), requires_grad=True)\r\n",
    "b = torch.zeros(1, requires_grad=True)"
   ],
   "outputs": [],
   "metadata": {}
  },
  {
   "cell_type": "markdown",
   "source": [
    "初始化参数之后，我们的任务是更新这些参数，直到这些参数足够拟合我们的数据。更新的算法为梯度下降算法（gradient descent）"
   ],
   "metadata": {}
  },
  {
   "cell_type": "markdown",
   "source": [
    "---------------\r\n",
    "定义线性回归模型"
   ],
   "metadata": {}
  },
  {
   "cell_type": "code",
   "execution_count": 6,
   "source": [
    "def linreg(X, w, b):\r\n",
    "    \"\"\" 线性回归模型 \"\"\"\r\n",
    "    return torch.matmul(X, w) + b"
   ],
   "outputs": [],
   "metadata": {}
  },
  {
   "cell_type": "markdown",
   "source": [
    "定义损失函数，这里使用平方损失函数"
   ],
   "metadata": {}
  },
  {
   "cell_type": "code",
   "execution_count": null,
   "source": [
    "def squared_loss(y_hat, y):\r\n",
    "    \"\"\" 均方损失 \"\"\"\r\n",
    "    return (y_hat - y.reshape(y_hat.shape)) ** 2 / 2"
   ],
   "outputs": [],
   "metadata": {}
  },
  {
   "cell_type": "markdown",
   "source": [
    "定义优化算法，主要使用小批量随机梯度下降。"
   ],
   "metadata": {}
  },
  {
   "cell_type": "code",
   "execution_count": 7,
   "source": [
    "def sgg(params, lr, batch_size):\r\n",
    "    \"\"\" 小批量随机梯度下降 \"\"\"\r\n",
    "    with torch.no_grad():\r\n",
    "        for param in params:\r\n",
    "            param -= lr * param.grad / batch_size  # 计算的损失是一个批量样本的总和，所以用batch_size来归一化步长\r\n",
    "            param.grad.zero_()"
   ],
   "outputs": [],
   "metadata": {}
  }
 ],
 "metadata": {
  "orig_nbformat": 4,
  "language_info": {
   "name": "python",
   "version": "3.8.0",
   "mimetype": "text/x-python",
   "codemirror_mode": {
    "name": "ipython",
    "version": 3
   },
   "pygments_lexer": "ipython3",
   "nbconvert_exporter": "python",
   "file_extension": ".py"
  },
  "kernelspec": {
   "name": "python3",
   "display_name": "Python 3.8.0 64-bit"
  },
  "interpreter": {
   "hash": "1afac9f31d94eb4bb33e3dfb678ca317679229fb6cdf46f98be1090e60a0b866"
  }
 },
 "nbformat": 4,
 "nbformat_minor": 2
}