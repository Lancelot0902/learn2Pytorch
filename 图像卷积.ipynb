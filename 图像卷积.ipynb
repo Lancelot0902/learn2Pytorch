{
 "cells": [
  {
   "cell_type": "code",
   "execution_count": 1,
   "source": [
    "import torch\r\n",
    "import d2l as d2l\r\n",
    "from torch import nn"
   ],
   "outputs": [],
   "metadata": {}
  },
  {
   "cell_type": "code",
   "execution_count": 5,
   "source": [
    "def corr2d(X, k):\r\n",
    "    \"\"\" 计算二维互相关运算 \"\"\"\r\n",
    "    h, w = k.shape\r\n",
    "    Y = torch.zeros((X.shape[0] - h + 1, X.shape[1] - w + 1))\r\n",
    "    for i in range(Y.shape[0]):\r\n",
    "        for j in range(Y.shape[1]):\r\n",
    "            Y[i, j] = (X[i:i + h, j:j + w] * k).sum()\r\n",
    "    return Y"
   ],
   "outputs": [],
   "metadata": {}
  },
  {
   "cell_type": "code",
   "execution_count": 6,
   "source": [
    "class Conv2D(nn.Module):\r\n",
    "    \"\"\" 初始化卷积层 \"\"\"\r\n",
    "    def __init__(self, kernel_size):\r\n",
    "        super().__init__()\r\n",
    "        self.weight = nn.Parameter(torch.rand(kernel_size))\r\n",
    "        self.bias = nn.Parameter(torch.zeros(1))\r\n",
    "\r\n",
    "    def forward(self, x):\r\n",
    "        return corr2d(x, self.weight) + self.bias"
   ],
   "outputs": [],
   "metadata": {}
  },
  {
   "cell_type": "markdown",
   "source": [
    "## 学习卷积核"
   ],
   "metadata": {}
  },
  {
   "cell_type": "code",
   "execution_count": 9,
   "source": [
    "conv2d = nn.Conv2d(1, 1, kernel_size=(1, 2), bias=False)     # 构造一个二维卷积层，具有一个输出通道和形状为（1,2）的卷积核\r\n",
    "X = torch.ones((6, 8))\r\n",
    "X[:, 2:6] = 0\r\n",
    "K = torch.tensor([[1.0, -1.0]])\r\n",
    "Y = corr2d(X, K)\r\n",
    "X = X.reshape((1,1,6,8))\r\n",
    "Y = Y.reshape((1,1,6,7))\r\n",
    "\r\n",
    "for i in range(10):\r\n",
    "    Y_hat = conv2d(X)\r\n",
    "    l = (Y_hat-Y) ** 2\r\n",
    "    conv2d.zero_grad()\r\n",
    "    l.sum().backward()\r\n",
    "    conv2d.weight.data[:] -= 3e-2 * conv2d.weight.grad\r\n",
    "    if (i + 1) % 2 == 0:\r\n",
    "        print(f'batch {i+1}, loss {l.sum():.3f}')\r\n",
    "\r\n",
    "conv2d.weight.data.reshape((1, 2))"
   ],
   "outputs": [
    {
     "output_type": "stream",
     "name": "stdout",
     "text": [
      "batch 2, loss 11.542\n",
      "batch 4, loss 3.541\n",
      "batch 6, loss 1.252\n",
      "batch 8, loss 0.479\n",
      "batch 10, loss 0.191\n"
     ]
    },
    {
     "output_type": "execute_result",
     "data": {
      "text/plain": [
       "tensor([[ 1.0331, -0.9438]])"
      ]
     },
     "metadata": {},
     "execution_count": 9
    }
   ],
   "metadata": {}
  }
 ],
 "metadata": {
  "orig_nbformat": 4,
  "language_info": {
   "name": "python",
   "version": "3.8.0",
   "mimetype": "text/x-python",
   "codemirror_mode": {
    "name": "ipython",
    "version": 3
   },
   "pygments_lexer": "ipython3",
   "nbconvert_exporter": "python",
   "file_extension": ".py"
  },
  "kernelspec": {
   "name": "python3",
   "display_name": "Python 3.8.0 64-bit"
  },
  "interpreter": {
   "hash": "1afac9f31d94eb4bb33e3dfb678ca317679229fb6cdf46f98be1090e60a0b866"
  }
 },
 "nbformat": 4,
 "nbformat_minor": 2
}