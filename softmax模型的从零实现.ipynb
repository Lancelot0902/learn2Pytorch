{
 "cells": [
  {
   "cell_type": "code",
   "execution_count": 12,
   "source": [
    "import torch\r\n",
    "import d2l as d2l\r\n",
    "\r\n",
    "\r\n",
    "batch_size = 256\r\n",
    "train_iter, test_iter = d2l.load_data_fashion_mnist(batch_size)"
   ],
   "outputs": [],
   "metadata": {}
  },
  {
   "cell_type": "markdown",
   "source": [
    "每个样本都会用固定长度的向量表示，原始数据集的每个样本都是28×28的图像，展开后可以看作长度为784的向量。\r\n",
    "\r\n",
    "softmax回归中，输出和类别一样多，因此每个样本有10个输出，所以权重会构成一个784×10的矩阵，偏置是一个1×10的向量。"
   ],
   "metadata": {}
  },
  {
   "cell_type": "code",
   "execution_count": 3,
   "source": [
    "num_input = 784\r\n",
    "num_output = 10\r\n",
    "\r\n",
    "w = torch.normal(0, 0.01, size=(num_input, num_output), requires_grad=True)\r\n",
    "b = torch.zeros(num_output,requires_grad=True)"
   ],
   "outputs": [],
   "metadata": {}
  },
  {
   "cell_type": "markdown",
   "source": [
    "定义softmax操作，softmax有3个步骤组成：\r\n",
    "* 对每个项求幂（exp）\r\n",
    "* 对每一行求和，得到每个样本的归一化常数\r\n",
    "* 将每一行除以其归一化常数，确保结果和为1\r\n",
    "\r\n",
    "softmax函数的意义是让是个输出均为正数并且和为1，这样复合统计学中的概率分布。"
   ],
   "metadata": {}
  },
  {
   "cell_type": "code",
   "execution_count": 4,
   "source": [
    "def softmax(X):\r\n",
    "    X_exp = torch.exp(X)\r\n",
    "    partition = X_exp.sum(1, keepdim=True)\r\n",
    "    return X_exp / partition"
   ],
   "outputs": [],
   "metadata": {}
  },
  {
   "cell_type": "code",
   "execution_count": 5,
   "source": [
    "X = torch.normal(0, 1, (2, 5))\r\n",
    "X_prob = softmax(X)\r\n",
    "X_prob, X_prob.sum(1)"
   ],
   "outputs": [
    {
     "output_type": "execute_result",
     "data": {
      "text/plain": [
       "(tensor([[0.0606, 0.0198, 0.6801, 0.0272, 0.2123],\n",
       "         [0.1598, 0.0942, 0.0715, 0.3823, 0.2922]]),\n",
       " tensor([1., 1.]))"
      ]
     },
     "metadata": {},
     "execution_count": 5
    }
   ],
   "metadata": {}
  },
  {
   "cell_type": "markdown",
   "source": [
    "定义softmax模型"
   ],
   "metadata": {}
  },
  {
   "cell_type": "code",
   "execution_count": 6,
   "source": [
    "def net(X):\r\n",
    "    return softmax(torch.matmul(X.reshape((-1, w.shape[0])), w) + b)"
   ],
   "outputs": [],
   "metadata": {}
  },
  {
   "cell_type": "markdown",
   "source": [
    "定义损失函数\r\n",
    "\r\n",
    "选用交叉熵函数作为损失函数，因此只需要选择样本真实的标签来求损失,使用的是真是标签的负对数似然。"
   ],
   "metadata": {}
  },
  {
   "cell_type": "code",
   "execution_count": 7,
   "source": [
    "def cross_entropy(y_hat, y):\r\n",
    "    return -torch.log(y_hat[range(len(y_hat)), y])"
   ],
   "outputs": [],
   "metadata": {}
  },
  {
   "cell_type": "markdown",
   "source": [
    "分类准确率，即正确预测数量与总预测数量之比。"
   ],
   "metadata": {}
  },
  {
   "cell_type": "code",
   "execution_count": 8,
   "source": [
    "def accuracy(y_hat, y):\r\n",
    "    \"\"\" 计算预测正确的数量 \"\"\"\r\n",
    "    if len(y_hat.shape) > 1 and y_hat.shape[1] > 1:\r\n",
    "        y_hat = y_hat.argmax(axis=1)    # 类似于sum中的参数keepdim\r\n",
    "    cmp = y_hat.type(y.dtype) == y\r\n",
    "    return float(cmp.type(y.dtype).sum())"
   ],
   "outputs": [],
   "metadata": {}
  },
  {
   "cell_type": "markdown",
   "source": [
    "对于任意数据迭代器data_iter可访问的数据集，可以评估在任意模型net的准确率。"
   ],
   "metadata": {}
  },
  {
   "cell_type": "code",
   "execution_count": 9,
   "source": [
    "class Accumulator:  #@save\r\n",
    "    \"\"\" 在n个变量上累加 \"\"\"\r\n",
    "    def __init__(self, n):\r\n",
    "        self.data = [0.0] * n\r\n",
    "\r\n",
    "    def add(self, *args):\r\n",
    "        self.data = [a + float(b) for a, b in zip(self.data, args)]\r\n",
    "\r\n",
    "    def reset(self):\r\n",
    "        self.data = [0.0] * len(self.data)\r\n",
    "\r\n",
    "    def __getitem__(self, idx):\r\n",
    "        return self.data[idx]\r\n",
    "\r\n",
    "\r\n",
    "def evaluate_accuracy(net, data_iter):  #@save\r\n",
    "    \"\"\" 计算在指定数据集上模型的精度 \"\"\"\r\n",
    "    if isinstance(net, torch.nn.Module):\r\n",
    "        net.eval()  # 将模型设为评估模式\r\n",
    "    metric = Accumulator(2)  # 创建两个变量，一个存储正确预测数量，一个存储总数量\r\n",
    "    for X, y in data_iter:\r\n",
    "        metric.add(accuracy(net(X), y), y.numel())\r\n",
    "    return metric[0] / metric[1]\r\n",
    "\r\n",
    "\r\n",
    "evaluate_accuracy(net, test_iter)"
   ],
   "outputs": [
    {
     "output_type": "execute_result",
     "data": {
      "text/plain": [
       "0.1194"
      ]
     },
     "metadata": {},
     "execution_count": 9
    }
   ],
   "metadata": {}
  },
  {
   "cell_type": "markdown",
   "source": [
    "训练"
   ],
   "metadata": {}
  },
  {
   "cell_type": "code",
   "execution_count": 11,
   "source": [
    "def train_epoch_ch3(net, train_iter, loss, updater):  #@save\r\n",
    "    \"\"\" 训练一个模型的迭代周期 \"\"\"\r\n",
    "    # 设置为训练模式\r\n",
    "    if isinstance(net, torch.nn.Module):\r\n",
    "        net.train()\r\n",
    "    # 训练损失总和、训练准确度总和、样本数\r\n",
    "    metric = Accumulator(3)\r\n",
    "    for X, y in train_iter:\r\n",
    "        y_hat = net(X)\r\n",
    "        l = loss(y_hat, y)\r\n",
    "        if isinstance(updater, torch.optim.Optimizer):\r\n",
    "            # 使用Pytorch内置的优化器和损失函数\r\n",
    "            updater.zero_grad()\r\n",
    "            l.backwarrd()\r\n",
    "            updater.step()\r\n",
    "            metric.add(float(l) * len(y), accuracy(y_hat, y), y.size().numel())\r\n",
    "        else:\r\n",
    "            # 使用定制的优化器和损失函数\r\n",
    "            l.sum().backward()\r\n",
    "            updater(X.shape[0])\r\n",
    "            metric.add(float(l.sum()), accuracy(y_hat, y), y.numel())\r\n",
    "    # 返回训练损失和训练准确率\r\n",
    "    return metric[0] / metric[2], metric[1] / metric[2]\r\n",
    "\r\n",
    "\r\n",
    "def train_ch3(net, train_iter, test_iter, loss, num_epoch3, updater):\r\n",
    "    \"\"\" 训练模型 \"\"\"\r\n",
    "    for epoch in range(num_epoch3):\r\n",
    "        train_metrics = train_epoch_ch3(net, train_iter, loss, updater)\r\n",
    "        test_acc = evaluate_accuracy(net, test_iter)\r\n",
    "    train_loss, train_acc = train_metrics\r\n",
    "    assert train_loss < 0.5, train_loss\r\n",
    "    assert train_acc <= 1 and train_acc > 0.7, train_acc\r\n",
    "    assert test_acc <= 1 and test_acc > 0.7, test_acc\r\n",
    "\r\n",
    "\r\n",
    "def updater(batch_size):\r\n",
    "    return d2l.sgd([w, b], lr, batch_size)\r\n",
    "\r\n",
    "\r\n",
    "lr = 0.1\r\n",
    "num_epochs = 10\r\n",
    "train_ch3(net, train_iter, test_iter, cross_entropy, num_epochs, updater)"
   ],
   "outputs": [],
   "metadata": {}
  }
 ],
 "metadata": {
  "orig_nbformat": 4,
  "language_info": {
   "name": "python",
   "version": "3.8.0",
   "mimetype": "text/x-python",
   "codemirror_mode": {
    "name": "ipython",
    "version": 3
   },
   "pygments_lexer": "ipython3",
   "nbconvert_exporter": "python",
   "file_extension": ".py"
  },
  "kernelspec": {
   "name": "python3",
   "display_name": "Python 3.8.0 64-bit"
  },
  "interpreter": {
   "hash": "1afac9f31d94eb4bb33e3dfb678ca317679229fb6cdf46f98be1090e60a0b866"
  }
 },
 "nbformat": 4,
 "nbformat_minor": 2
}