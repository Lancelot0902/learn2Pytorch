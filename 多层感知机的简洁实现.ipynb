{
 "cells": [
  {
   "cell_type": "code",
   "execution_count": 1,
   "source": [
    "import torch\r\n",
    "import d2l as d2l\r\n",
    "from torch import nn"
   ],
   "outputs": [],
   "metadata": {}
  },
  {
   "cell_type": "code",
   "execution_count": 2,
   "source": [
    "net = nn.Sequential(nn.Flatten(), nn.Linear(784, 256), nn.ReLU(),\r\n",
    "                    nn.Linear(256, 10))\r\n",
    "\r\n",
    "\r\n",
    "def init_weight(m):\r\n",
    "    if type(m) == nn.Linear:\r\n",
    "        nn.init.normal_(m.weight, std=0.01)\r\n",
    "\r\n",
    "\r\n",
    "net.apply(init_weight)\r\n"
   ],
   "outputs": [
    {
     "output_type": "execute_result",
     "data": {
      "text/plain": [
       "Sequential(\n",
       "  (0): Flatten(start_dim=1, end_dim=-1)\n",
       "  (1): Linear(in_features=784, out_features=256, bias=True)\n",
       "  (2): ReLU()\n",
       "  (3): Linear(in_features=256, out_features=10, bias=True)\n",
       ")"
      ]
     },
     "metadata": {},
     "execution_count": 2
    }
   ],
   "metadata": {}
  },
  {
   "cell_type": "code",
   "execution_count": null,
   "source": [
    "batch_size, lr, num_epochs = 256, 0.1, 10\r\n",
    "loss = nn.CrossEntropyLoss()\r\n",
    "trainer = torch.optim.SGD(net.parameters(), lr=lr)\r\n",
    "\r\n",
    "train_iter, test_iter = d2l.load_data_fashion_mnist(batch_size)\r\n",
    "d2l.train_ch3(net, train_iter, test_iter, loss, num_epochs, trainer)"
   ],
   "outputs": [],
   "metadata": {}
  }
 ],
 "metadata": {
  "orig_nbformat": 4,
  "language_info": {
   "name": "python",
   "version": "3.8.0",
   "mimetype": "text/x-python",
   "codemirror_mode": {
    "name": "ipython",
    "version": 3
   },
   "pygments_lexer": "ipython3",
   "nbconvert_exporter": "python",
   "file_extension": ".py"
  },
  "kernelspec": {
   "name": "python3",
   "display_name": "Python 3.8.0 64-bit"
  },
  "interpreter": {
   "hash": "1afac9f31d94eb4bb33e3dfb678ca317679229fb6cdf46f98be1090e60a0b866"
  }
 },
 "nbformat": 4,
 "nbformat_minor": 2
}