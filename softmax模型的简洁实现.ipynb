{
 "cells": [
  {
   "cell_type": "code",
   "execution_count": 3,
   "source": [
    "import torch\r\n",
    "import d2l as d2l\r\n",
    "from torch import nn\r\n",
    "\r\n",
    "batch_size = 256\r\n",
    "train_iter, test_iter = d2l.load_data_fashion_mnist(batch_size)"
   ],
   "outputs": [],
   "metadata": {}
  },
  {
   "cell_type": "code",
   "execution_count": 2,
   "source": [
    "# 在线性层前面定义展平层来调整网络输入的形状，就是将28*28变成784的一个向量\r\n",
    "net = nn.Sequential(nn.Flatten(), nn.Linear(784, 10))\r\n",
    "\r\n",
    "\r\n",
    "def init_weights(m):\r\n",
    "    if type(m) == nn.Linear:\r\n",
    "        nn.init.normal_(m.weight, std=0.01)\r\n",
    "\r\n",
    "\r\n",
    "net.apply(init_weights)  # 初始化权重\r\n",
    "loss = nn.CrossEntropyLoss()  # 交叉熵损失\r\n",
    "trainer = torch.optim.SGD(net.parameters(), lr=0.1)\r\n",
    "num_epochs = 10\r\n",
    "d2l.train_ch3(net, train_iter, test_iter, loss, num_epochs, trainer)\r\n"
   ],
   "outputs": [],
   "metadata": {}
  }
 ],
 "metadata": {
  "orig_nbformat": 4,
  "language_info": {
   "name": "python",
   "version": "3.8.0",
   "mimetype": "text/x-python",
   "codemirror_mode": {
    "name": "ipython",
    "version": 3
   },
   "pygments_lexer": "ipython3",
   "nbconvert_exporter": "python",
   "file_extension": ".py"
  },
  "kernelspec": {
   "name": "python3",
   "display_name": "Python 3.8.0 64-bit"
  },
  "interpreter": {
   "hash": "1afac9f31d94eb4bb33e3dfb678ca317679229fb6cdf46f98be1090e60a0b866"
  }
 },
 "nbformat": 4,
 "nbformat_minor": 2
}