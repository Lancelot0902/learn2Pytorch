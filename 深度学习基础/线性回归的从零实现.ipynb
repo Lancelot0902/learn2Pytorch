{
 "cells": [
  {
   "cell_type": "markdown",
   "metadata": {},
   "source": [
    "线性回归的从零开始实现，模型是**y** = **Xw** + b + θ，θ服从（0,0.0001）的正态分布。**X**是一个1000*2的矩阵，每个样本包含从标准正态分布中采样的2个特征，线性模型参数**W** = [2，-3.4]<sup>T</sup>，b = 4.2"
   ]
  },
  {
   "cell_type": "code",
   "execution_count": 1,
   "metadata": {},
   "outputs": [],
   "source": [
    "import random\n",
    "import torch"
   ]
  },
  {
   "cell_type": "markdown",
   "metadata": {},
   "source": [
    "产生数据"
   ]
  },
  {
   "cell_type": "code",
   "execution_count": 2,
   "metadata": {},
   "outputs": [
    {
     "name": "stdout",
     "output_type": "stream",
     "text": [
      "features: tensor([ 1.3837, -1.3548]) \n",
      "label: tensor([11.5683])\n"
     ]
    }
   ],
   "source": [
    "def synthetic_data(w, b, num_examples):     #@save\n",
    "    \"\"\" 生成线性回归的模型 \"\"\"\n",
    "    X = torch.normal(0, 1, (num_examples, len(w)))  # 返回一个1000*2的tensor，数据服从标准正态分布\n",
    "    y = torch.matmul(X, w) + b\n",
    "    y += torch.normal(0, 0.01, y.shape)  # 加θ\n",
    "    return X, y.reshape((-1, 1))  # 返回X，y的列向量\n",
    "\n",
    "true_w = torch.tensor([2, -3.4])\n",
    "true_b = 4.2\n",
    "features, labels = synthetic_data(true_w, true_b, 1000)\n",
    "\n",
    "print('features:',features[0],'\\nlabel:',labels[0])  # features中的每一行都包含一个二维数据样本，labels中的每一行都包含一维标签值（一个标量）"
   ]
  },
  {
   "cell_type": "markdown",
   "metadata": {},
   "source": [
    "读取数据集\n",
    "该函数能打乱数据集集中的样本并以小批量方式获取数据（batch_size）"
   ]
  },
  {
   "cell_type": "code",
   "execution_count": 3,
   "metadata": {},
   "outputs": [
    {
     "name": "stdout",
     "output_type": "stream",
     "text": [
      "tensor([[-0.3436,  1.0502],\n",
      "        [ 1.4884,  1.1913],\n",
      "        [ 0.3127,  1.3316],\n",
      "        [ 0.1652,  0.8474],\n",
      "        [-0.0790,  0.0616],\n",
      "        [ 1.0388,  0.4678],\n",
      "        [ 0.1514, -0.6172],\n",
      "        [-0.6109,  0.9760],\n",
      "        [-2.0698, -1.2011],\n",
      "        [-0.3881, -0.6774]]) \n",
      " tensor([[-0.0539],\n",
      "        [ 3.1356],\n",
      "        [ 0.3045],\n",
      "        [ 1.6498],\n",
      "        [ 3.8470],\n",
      "        [ 4.6937],\n",
      "        [ 6.5856],\n",
      "        [-0.3517],\n",
      "        [ 4.1269],\n",
      "        [ 5.7190]])\n"
     ]
    }
   ],
   "source": [
    "def data_iter(batch_size, features, labels):\n",
    "    num_examples = len(features)\n",
    "    indices = list(range(num_examples))\n",
    "\n",
    "    # 这些样本是随机读取的，没有特定的顺序\n",
    "    random.shuffle(indices)\n",
    "    for i in range(0, num_examples, batch_size):\n",
    "        batch_indices = torch.tensor(indices[i:min(i + batch_size, num_examples)])\n",
    "        yield features[batch_indices], labels[batch_indices]\n",
    "    \n",
    "batch_size = 10\n",
    "\n",
    "for X,y in data_iter(batch_size, features, labels):\n",
    "        print(X, '\\n', y)\n",
    "        break"
   ]
  },
  {
   "cell_type": "markdown",
   "metadata": {},
   "source": [
    "初始化模型参数"
   ]
  },
  {
   "cell_type": "code",
   "execution_count": 4,
   "metadata": {},
   "outputs": [],
   "source": [
    "w = torch.normal(0, 0.01, size=(2,1), requires_grad=True)\n",
    "b = torch.zeros(1, requires_grad=True)"
   ]
  },
  {
   "cell_type": "markdown",
   "metadata": {},
   "source": [
    "初始化参数之后，我们的任务是更新这些参数，直到这些参数足够拟合我们的数据。更新的算法为梯度下降算法（gradient descent）"
   ]
  },
  {
   "cell_type": "markdown",
   "metadata": {},
   "source": [
    "---------------\n",
    "定义线性回归模型"
   ]
  },
  {
   "cell_type": "code",
   "execution_count": 5,
   "metadata": {},
   "outputs": [],
   "source": [
    "def linreg(X, w, b):    #@save\n",
    "    \"\"\" 线性回归模型 \"\"\"\n",
    "    return torch.matmul(X, w) + b"
   ]
  },
  {
   "cell_type": "markdown",
   "metadata": {},
   "source": [
    "定义损失函数，这里使用平方损失函数"
   ]
  },
  {
   "cell_type": "code",
   "execution_count": 6,
   "metadata": {},
   "outputs": [],
   "source": [
    "def squared_loss(y_hat, y): #@save\n",
    "    \"\"\" 均方损失 \"\"\"\n",
    "    return (y_hat - y.reshape(y_hat.shape)) ** 2 / 2"
   ]
  },
  {
   "cell_type": "markdown",
   "metadata": {},
   "source": [
    "定义优化算法，主要使用小批量随机梯度下降。"
   ]
  },
  {
   "cell_type": "code",
   "execution_count": 7,
   "metadata": {},
   "outputs": [],
   "source": [
    "def sgd(params, lr, batch_size):  #@save\n",
    "    \"\"\" 小批量随机梯度下降 \"\"\"\n",
    "    with torch.no_grad():\n",
    "        for param in params:\n",
    "            param -= lr * param.grad / batch_size   # 计算的损失是一个批量样本的总和，所以用batch_size来归一化步长\n",
    "                                                    # -=操作符会就地改变参数的值，所以不需要返回值\n",
    "            param.grad.zero_()"
   ]
  },
  {
   "cell_type": "markdown",
   "metadata": {},
   "source": [
    "训练模型，我们会完成以下循环：\n",
    "* 初始化参数\n",
    "* 重复，直到完成\n",
    "    * 计算梯度**g（w，** b **）**\n",
    "    * 更新参数**w**，b"
   ]
  },
  {
   "cell_type": "code",
   "execution_count": 8,
   "metadata": {},
   "outputs": [
    {
     "name": "stdout",
     "output_type": "stream",
     "text": [
      "epoch 1, loss 0.036472\n",
      "epoch 2, loss 0.000132\n",
      "epoch 3, loss 0.000049\n"
     ]
    }
   ],
   "source": [
    "lr = 0.03\n",
    "num_epochs = 3\n",
    "\n",
    "\"\"\" 等于将前面定义的函数改了个名 \"\"\"\n",
    "net = linreg\n",
    "loss = squared_loss\n",
    "\n",
    "for epoch in range(num_epochs):\n",
    "    for X,y in data_iter(batch_size, features, labels):\n",
    "        l = loss(net(X, w, b), y)\n",
    "        l.sum().backward()\n",
    "        sgd([w,b], lr, batch_size)\n",
    "    with torch.no_grad():\n",
    "        train_l = loss(net(features, w, b), labels)\n",
    "        print(f'epoch {epoch + 1}, loss {float(train_l.mean()):f}')"
   ]
  },
  {
   "cell_type": "markdown",
   "metadata": {},
   "source": [
    "真实参数true_w，true_b与训练参数w，b的误差"
   ]
  },
  {
   "cell_type": "code",
   "execution_count": 9,
   "metadata": {},
   "outputs": [
    {
     "name": "stdout",
     "output_type": "stream",
     "text": [
      "w的估计误差:tensor([ 0.0010, -0.0003], grad_fn=<SubBackward0>)\n",
      "b的估计误差:tensor([-0.0001], grad_fn=<RsubBackward1>)\n"
     ]
    }
   ],
   "source": [
    "print(f'w的估计误差:{true_w - w.reshape(true_w.shape)}')\n",
    "print(f'b的估计误差:{true_b - b}')"
   ]
  }
 ],
 "metadata": {
  "interpreter": {
   "hash": "1afac9f31d94eb4bb33e3dfb678ca317679229fb6cdf46f98be1090e60a0b866"
  },
  "kernelspec": {
   "display_name": "Python 3 (ipykernel)",
   "language": "python",
   "name": "python3"
  },
  "language_info": {
   "codemirror_mode": {
    "name": "ipython",
    "version": 3
   },
   "file_extension": ".py",
   "mimetype": "text/x-python",
   "name": "python",
   "nbconvert_exporter": "python",
   "pygments_lexer": "ipython3",
   "version": "3.8.0"
  }
 },
 "nbformat": 4,
 "nbformat_minor": 2
}
