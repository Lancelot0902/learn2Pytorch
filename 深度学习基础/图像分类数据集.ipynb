{
 "cells": [
  {
   "cell_type": "markdown",
   "source": [
    "## 图像分类数据集(Fashion-MNIST)"
   ],
   "metadata": {}
  },
  {
   "cell_type": "code",
   "execution_count": 4,
   "source": [
    "import torch\r\n",
    "import torchvision\r\n",
    "import d2l as d2l\r\n",
    "from torch.utils import data\r\n",
    "from torchvision import transforms"
   ],
   "outputs": [],
   "metadata": {}
  },
  {
   "cell_type": "code",
   "execution_count": 5,
   "source": [
    "trans = transforms.ToTensor()\r\n",
    "mnist_train = torchvision.datasets.FashionMNIST(root=\"../data\",\r\n",
    "                                                train=True,\r\n",
    "                                                transform=trans,\r\n",
    "                                                download=True)\r\n",
    "mnist_test = torchvision.datasets.FashionMNIST(root=\"../data\",\r\n",
    "                                               train=False,\r\n",
    "                                               transform=trans,\r\n",
    "                                               download=True)\r\n",
    "\r\n",
    "len(mnist_train), len(mnist_test)"
   ],
   "outputs": [
    {
     "output_type": "stream",
     "name": "stdout",
     "text": [
      "Downloading http://fashion-mnist.s3-website.eu-central-1.amazonaws.com/train-images-idx3-ubyte.gz\n",
      "Downloading http://fashion-mnist.s3-website.eu-central-1.amazonaws.com/train-images-idx3-ubyte.gz to ../data\\FashionMNIST\\raw\\train-images-idx3-ubyte.gz\n"
     ]
    },
    {
     "output_type": "stream",
     "name": "stderr",
     "text": [
      "100.0%\n"
     ]
    },
    {
     "output_type": "stream",
     "name": "stdout",
     "text": [
      "Extracting ../data\\FashionMNIST\\raw\\train-images-idx3-ubyte.gz to ../data\\FashionMNIST\\raw\n",
      "\n",
      "Downloading http://fashion-mnist.s3-website.eu-central-1.amazonaws.com/train-labels-idx1-ubyte.gz\n",
      "Downloading http://fashion-mnist.s3-website.eu-central-1.amazonaws.com/train-labels-idx1-ubyte.gz to ../data\\FashionMNIST\\raw\\train-labels-idx1-ubyte.gz\n"
     ]
    },
    {
     "output_type": "stream",
     "name": "stderr",
     "text": [
      "100.6%\n"
     ]
    },
    {
     "output_type": "stream",
     "name": "stdout",
     "text": [
      "Extracting ../data\\FashionMNIST\\raw\\train-labels-idx1-ubyte.gz to ../data\\FashionMNIST\\raw\n",
      "\n",
      "Downloading http://fashion-mnist.s3-website.eu-central-1.amazonaws.com/t10k-images-idx3-ubyte.gz\n",
      "Downloading http://fashion-mnist.s3-website.eu-central-1.amazonaws.com/t10k-images-idx3-ubyte.gz to ../data\\FashionMNIST\\raw\\t10k-images-idx3-ubyte.gz\n"
     ]
    },
    {
     "output_type": "stream",
     "name": "stderr",
     "text": [
      "100.0%\n"
     ]
    },
    {
     "output_type": "stream",
     "name": "stdout",
     "text": [
      "Extracting ../data\\FashionMNIST\\raw\\t10k-images-idx3-ubyte.gz to ../data\\FashionMNIST\\raw\n",
      "\n",
      "Downloading http://fashion-mnist.s3-website.eu-central-1.amazonaws.com/t10k-labels-idx1-ubyte.gz\n",
      "Downloading http://fashion-mnist.s3-website.eu-central-1.amazonaws.com/t10k-labels-idx1-ubyte.gz to ../data\\FashionMNIST\\raw\\t10k-labels-idx1-ubyte.gz\n"
     ]
    },
    {
     "output_type": "stream",
     "name": "stderr",
     "text": [
      "119.3%"
     ]
    },
    {
     "output_type": "stream",
     "name": "stdout",
     "text": [
      "Extracting ../data\\FashionMNIST\\raw\\t10k-labels-idx1-ubyte.gz to ../data\\FashionMNIST\\raw\n",
      "\n"
     ]
    },
    {
     "output_type": "stream",
     "name": "stderr",
     "text": [
      "\n",
      "C:\\Users\\douxinsheng\\AppData\\Local\\Programs\\Python\\Python38\\lib\\site-packages\\torchvision\\datasets\\mnist.py:498: UserWarning: The given NumPy array is not writeable, and PyTorch does not support non-writeable tensors. This means you can write to the underlying (supposedly non-writeable) NumPy array using the tensor. You may want to copy the array to protect its data or make it writeable before converting it to a tensor. This type of warning will be suppressed for the rest of this program. (Triggered internally at  ..\\torch\\csrc\\utils\\tensor_numpy.cpp:180.)\n",
      "  return torch.from_numpy(parsed.astype(m[2], copy=False)).view(*s)\n"
     ]
    },
    {
     "output_type": "execute_result",
     "data": {
      "text/plain": [
       "(60000, 10000)"
      ]
     },
     "metadata": {},
     "execution_count": 5
    }
   ],
   "metadata": {}
  },
  {
   "cell_type": "markdown",
   "source": [
    "Fashion-MNIST由10个类别的图像组成，训练数据集有60000张，测试数据集有10000张。每个输入图像的高度和宽度均为28像素，由灰度图像组成，因此通道数为1。"
   ],
   "metadata": {}
  },
  {
   "cell_type": "code",
   "execution_count": 6,
   "source": [
    "torch.Size([1, 28, 28])"
   ],
   "outputs": [
    {
     "output_type": "execute_result",
     "data": {
      "text/plain": [
       "torch.Size([1, 28, 28])"
      ]
     },
     "metadata": {},
     "execution_count": 6
    }
   ],
   "metadata": {}
  },
  {
   "cell_type": "markdown",
   "source": [
    "Fashion-MNIST中包含的是个类别分别为：t-shirt（T恤）、trouser（裤子）、pullover（套衫）、dress（连衣裙）、coat（外套）、sandal（凉鞋）、shirt（衬衫）、sneaker（运动鞋）、bag（包）和ankle boot（短靴）。"
   ],
   "metadata": {}
  },
  {
   "cell_type": "code",
   "execution_count": 8,
   "source": [
    "def get_fashion_mnist_labels(labels):   #@save\r\n",
    "    \"\"\" 数字标签索引及其文本名称间转换 \"\"\"\r\n",
    "    text_labels = [\r\n",
    "        't-shirt', 'trouser', 'pullover', 'dress', 'coat', 'sandal', 'shirt',\r\n",
    "        'sneaker', 'bag', 'ankle boot'\r\n",
    "    ]\r\n",
    "    return [text_labels[int(i)] for i in labels]"
   ],
   "outputs": [],
   "metadata": {}
  },
  {
   "cell_type": "markdown",
   "source": [
    "读取小批量"
   ],
   "metadata": {}
  },
  {
   "cell_type": "code",
   "execution_count": 9,
   "source": [
    "batch_size = 256\r\n",
    "\r\n",
    "\r\n",
    "def get_dataloader_workers():\r\n",
    "    \"\"\" 使用4个进程来读取数据 \"\"\"\r\n",
    "    return 4\r\n",
    "\r\n",
    "\r\n",
    "train_iter = data.DataLoader(mnist_train,\r\n",
    "                             batch_size,\r\n",
    "                             shuffle=True,\r\n",
    "                             num_workers=get_dataloader_workers())\r\n"
   ],
   "outputs": [],
   "metadata": {}
  },
  {
   "cell_type": "markdown",
   "source": [
    "整合所有组件"
   ],
   "metadata": {}
  },
  {
   "cell_type": "code",
   "execution_count": 1,
   "source": [
    "def load_data_fashion_mnist(batch_size, resize=None):  #@save\r\n",
    "    \"\"\" 下载Fashion-MNIST数据集，然后加载到内存中 \"\"\"\r\n",
    "    trans = [transforms.ToTensor()]\r\n",
    "    if resize:\r\n",
    "        trans.insert(0, transforms.Resize(resize))\r\n",
    "    trans = transforms.Compose(trans)\r\n",
    "    mnist_train = torchvision.datasets.FashionMNIST(root=\"../data\",\r\n",
    "                                                    train=True,\r\n",
    "                                                    transform=trans,\r\n",
    "                                                    download=True)\r\n",
    "    mnist_test = torchvision.datasets.FashionMNIST(root=\"../data\",\r\n",
    "                                                   train=False,\r\n",
    "                                                   transform=trans,\r\n",
    "                                                   download=True)\r\n",
    "    return (data.DataLoader(mnist_train,\r\n",
    "                            batch_size,\r\n",
    "                            shuffle=True,\r\n",
    "                            num_workers=get_dataloader_workers()),\r\n",
    "            data.DataLoader(mnist_test,\r\n",
    "                            batch_size,\r\n",
    "                            shuffle=False,\r\n",
    "                            num_workers=get_dataloader_workers()))\r\n"
   ],
   "outputs": [],
   "metadata": {}
  }
 ],
 "metadata": {
  "orig_nbformat": 4,
  "language_info": {
   "name": "python",
   "version": "3.8.0",
   "mimetype": "text/x-python",
   "codemirror_mode": {
    "name": "ipython",
    "version": 3
   },
   "pygments_lexer": "ipython3",
   "nbconvert_exporter": "python",
   "file_extension": ".py"
  },
  "kernelspec": {
   "name": "python3",
   "display_name": "Python 3.8.0 64-bit"
  },
  "interpreter": {
   "hash": "1afac9f31d94eb4bb33e3dfb678ca317679229fb6cdf46f98be1090e60a0b866"
  }
 },
 "nbformat": 4,
 "nbformat_minor": 2
}