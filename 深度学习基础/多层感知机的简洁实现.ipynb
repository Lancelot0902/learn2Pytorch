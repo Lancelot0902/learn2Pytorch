{
 "cells": [
  {
   "cell_type": "code",
   "execution_count": 3,
   "source": [
    "import torch\r\n",
    "import d2l as d2l\r\n",
    "from torch import nn"
   ],
   "outputs": [],
   "metadata": {}
  },
  {
   "cell_type": "code",
   "execution_count": 4,
   "source": [
    "net = nn.Sequential(nn.Flatten(), nn.Linear(784, 256), nn.ReLU(),\r\n",
    "                    nn.Linear(256, 10))\r\n",
    "\r\n",
    "\r\n",
    "def init_weight(m):\r\n",
    "    if type(m) == nn.Linear:\r\n",
    "        nn.init.normal_(m.weight, std=0.01)\r\n",
    "\r\n",
    "\r\n",
    "net.apply(init_weight)\r\n"
   ],
   "outputs": [
    {
     "output_type": "execute_result",
     "data": {
      "text/plain": [
       "Sequential(\n",
       "  (0): Flatten(start_dim=1, end_dim=-1)\n",
       "  (1): Linear(in_features=784, out_features=256, bias=True)\n",
       "  (2): ReLU()\n",
       "  (3): Linear(in_features=256, out_features=10, bias=True)\n",
       ")"
      ]
     },
     "metadata": {},
     "execution_count": 4
    }
   ],
   "metadata": {}
  },
  {
   "cell_type": "code",
   "execution_count": 6,
   "source": [
    "batch_size, lr, num_epochs = 256, 0.1, 10\r\n",
    "loss = nn.CrossEntropyLoss()\r\n",
    "trainer = torch.optim.SGD(net.parameters(), lr=lr)\r\n",
    "\r\n",
    "train_iter, test_iter = d2l.load_data_fashion_mnist(batch_size)\r\n",
    "d2l.train_ch3(net, train_iter, test_iter, loss, num_epochs, trainer)"
   ],
   "outputs": [
    {
     "output_type": "stream",
     "name": "stdout",
     "text": [
      "epoch： 1, loss： 0.8264, train_acc： 0.702, test_acc： 0.765\n",
      "epoch： 2, loss： 0.5801, train_acc： 0.796, test_acc： 0.805\n",
      "epoch： 3, loss： 0.5103, train_acc： 0.822, test_acc： 0.823\n",
      "epoch： 4, loss： 0.4733, train_acc： 0.835, test_acc： 0.830\n",
      "epoch： 5, loss： 0.4499, train_acc： 0.842, test_acc： 0.831\n",
      "epoch： 6, loss： 0.4319, train_acc： 0.848, test_acc： 0.843\n",
      "epoch： 7, loss： 0.4169, train_acc： 0.853, test_acc： 0.813\n",
      "epoch： 8, loss： 0.4016, train_acc： 0.857, test_acc： 0.817\n",
      "epoch： 9, loss： 0.3882, train_acc： 0.863, test_acc： 0.832\n",
      "epoch： 10, loss： 0.3803, train_acc： 0.866, test_acc： 0.853\n"
     ]
    }
   ],
   "metadata": {}
  }
 ],
 "metadata": {
  "orig_nbformat": 4,
  "language_info": {
   "name": "python",
   "version": "3.8.0",
   "mimetype": "text/x-python",
   "codemirror_mode": {
    "name": "ipython",
    "version": 3
   },
   "pygments_lexer": "ipython3",
   "nbconvert_exporter": "python",
   "file_extension": ".py"
  },
  "kernelspec": {
   "name": "python3",
   "display_name": "Python 3.8.0 64-bit"
  },
  "interpreter": {
   "hash": "1afac9f31d94eb4bb33e3dfb678ca317679229fb6cdf46f98be1090e60a0b866"
  }
 },
 "nbformat": 4,
 "nbformat_minor": 2
}