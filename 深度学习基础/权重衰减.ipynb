{
 "cells": [
  {
   "cell_type": "markdown",
   "source": [
    "权重衰减是为了解决过拟合问题。\r\n",
    "\r\n",
    "过拟合一般来说有两个方面：\r\n",
    "* 数据量太少，导致网络记住了训练数据集\r\n",
    "* 特征值太多，也是导致网络记住了训练数据集"
   ],
   "metadata": {}
  },
  {
   "cell_type": "code",
   "execution_count": 1,
   "source": [
    "import torch\r\n",
    "import d2l as d2l\r\n",
    "from torch import nn"
   ],
   "outputs": [],
   "metadata": {}
  },
  {
   "cell_type": "markdown",
   "source": [
    "准备训练数据和测试数据"
   ],
   "metadata": {}
  },
  {
   "cell_type": "code",
   "execution_count": 7,
   "source": [
    "n_train = 20\r\n",
    "n_test = 100\r\n",
    "num_inputs = 200\r\n",
    "batch_size = 5\r\n",
    "num_epochs, lr = 100, 0.003\r\n",
    "\r\n",
    "true_w, true_b = torch.ones((num_inputs, 1)) * 0.01, 0.05\r\n",
    "\r\n",
    "train_data = d2l.synthetic_data(true_w, true_b, n_train)\r\n",
    "train_iter = d2l.load_array(train_data, batch_size)\r\n",
    "\r\n",
    "test_data = d2l.synthetic_data(true_w, true_b, n_test)\r\n",
    "test_iter = d2l.load_array(test_data, batch_size, is_train=False)"
   ],
   "outputs": [],
   "metadata": {}
  },
  {
   "cell_type": "code",
   "execution_count": 8,
   "source": [
    "# 初始化权重和偏置\r\n",
    "def init_params():\r\n",
    "    w = torch.normal(0, 1, size=(num_inputs, 1), requires_grad=True)\r\n",
    "    b = torch.zeros(1, requires_grad=True)\r\n",
    "    return [w, b]\r\n",
    "\r\n",
    "\r\n",
    "# 定义L2范数惩罚\r\n",
    "def l2_penalty(w):\r\n",
    "    return torch.sum(w.pow(2)) / 2  # 除以2为了方便求导"
   ],
   "outputs": [],
   "metadata": {}
  },
  {
   "cell_type": "code",
   "execution_count": 26,
   "source": [
    "# 训练\r\n",
    "def train(lambd):\r\n",
    "    w, b = init_params()\r\n",
    "    #    net, loss = lambda X: d2l.linreg(X, w, b), d2l.squared_loss\r\n",
    "\r\n",
    "    for epoch in range(num_epochs):\r\n",
    "        for X, y in train_iter:\r\n",
    "            with torch.enable_grad():\r\n",
    "                l = d2l.squared_loss(d2l.linreg(X, w, b),\r\n",
    "                                     y) + lambd * l2_penalty(w)\r\n",
    "            l.sum().backward()\r\n",
    "            d2l.sgd([w, b], lr, batch_size)\r\n",
    "    print('w的L2范数是：', torch.norm(w).item())\r\n",
    "\r\n",
    "\r\n",
    "train(lambd=9)"
   ],
   "outputs": [
    {
     "output_type": "stream",
     "name": "stdout",
     "text": [
      "w的L2范数是： 0.1392524391412735\n"
     ]
    }
   ],
   "metadata": {}
  }
 ],
 "metadata": {
  "orig_nbformat": 4,
  "language_info": {
   "name": "python",
   "version": "3.8.0",
   "mimetype": "text/x-python",
   "codemirror_mode": {
    "name": "ipython",
    "version": 3
   },
   "pygments_lexer": "ipython3",
   "nbconvert_exporter": "python",
   "file_extension": ".py"
  },
  "kernelspec": {
   "name": "python3",
   "display_name": "Python 3.8.0 64-bit"
  },
  "interpreter": {
   "hash": "1afac9f31d94eb4bb33e3dfb678ca317679229fb6cdf46f98be1090e60a0b866"
  }
 },
 "nbformat": 4,
 "nbformat_minor": 2
}